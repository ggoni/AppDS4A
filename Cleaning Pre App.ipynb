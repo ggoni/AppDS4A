{
 "cells": [
  {
   "cell_type": "code",
   "execution_count": 1,
   "metadata": {},
   "outputs": [],
   "source": [
    "import pandas as pd\n",
    "import numpy as np\n",
    "pd.set_option('display.max_rows', 50)\n",
    "pd.set_option('display.max_columns', 50)\n",
    "import matplotlib.pyplot as plt"
   ]
  },
  {
   "cell_type": "markdown",
   "metadata": {},
   "source": [
    "Check if code and data \"live\" in the same path."
   ]
  },
  {
   "cell_type": "code",
   "execution_count": 2,
   "metadata": {},
   "outputs": [],
   "source": [
    "df=pd.read_csv('package_tracking_df_2.csv')"
   ]
  },
  {
   "cell_type": "code",
   "execution_count": 3,
   "metadata": {},
   "outputs": [],
   "source": [
    "df.drop(labels=['Unnamed: 0'],axis=1,inplace=True)"
   ]
  },
  {
   "cell_type": "code",
   "execution_count": 4,
   "metadata": {},
   "outputs": [
    {
     "data": {
      "text/plain": [
       "Index(['package_id', 'agreed_slo', 'mesoregion', 'real_weight',\n",
       "       'deadline_time', 'first_delivery_attempt_time',\n",
       "       'last_mile_driver_pickup_time', 'task_id', 'itinerary_id', 'type',\n",
       "       'ack_status', 'waypoint_role', 'completed_at', 'city', 'status',\n",
       "       'transport_type', 'product', 'product_version', 'distribution_center',\n",
       "       'created', 'checked_in_at', 'pickup_checkout_at',\n",
       "       'expected_completion_time'],\n",
       "      dtype='object')"
      ]
     },
     "execution_count": 4,
     "metadata": {},
     "output_type": "execute_result"
    }
   ],
   "source": [
    "df.columns"
   ]
  },
  {
   "cell_type": "code",
   "execution_count": 5,
   "metadata": {},
   "outputs": [],
   "source": [
    "df.dropna(inplace=True)"
   ]
  },
  {
   "cell_type": "code",
   "execution_count": 6,
   "metadata": {},
   "outputs": [
    {
     "data": {
      "text/plain": [
       "package_id                       object\n",
       "agreed_slo                       object\n",
       "mesoregion                       object\n",
       "real_weight                     float64\n",
       "deadline_time                    object\n",
       "first_delivery_attempt_time      object\n",
       "last_mile_driver_pickup_time     object\n",
       "task_id                          object\n",
       "itinerary_id                     object\n",
       "type                             object\n",
       "ack_status                       object\n",
       "waypoint_role                    object\n",
       "completed_at                     object\n",
       "city                             object\n",
       "status                           object\n",
       "transport_type                   object\n",
       "product                          object\n",
       "product_version                  object\n",
       "distribution_center              object\n",
       "created                          object\n",
       "checked_in_at                    object\n",
       "pickup_checkout_at               object\n",
       "expected_completion_time          int64\n",
       "dtype: object"
      ]
     },
     "execution_count": 6,
     "metadata": {},
     "output_type": "execute_result"
    }
   ],
   "source": [
    "df.dtypes"
   ]
  },
  {
   "cell_type": "code",
   "execution_count": 7,
   "metadata": {},
   "outputs": [
    {
     "data": {
      "text/html": [
       "<div>\n",
       "<style scoped>\n",
       "    .dataframe tbody tr th:only-of-type {\n",
       "        vertical-align: middle;\n",
       "    }\n",
       "\n",
       "    .dataframe tbody tr th {\n",
       "        vertical-align: top;\n",
       "    }\n",
       "\n",
       "    .dataframe thead th {\n",
       "        text-align: right;\n",
       "    }\n",
       "</style>\n",
       "<table border=\"1\" class=\"dataframe\">\n",
       "  <thead>\n",
       "    <tr style=\"text-align: right;\">\n",
       "      <th></th>\n",
       "      <th>package_id</th>\n",
       "      <th>agreed_slo</th>\n",
       "      <th>mesoregion</th>\n",
       "      <th>real_weight</th>\n",
       "      <th>deadline_time</th>\n",
       "      <th>first_delivery_attempt_time</th>\n",
       "      <th>last_mile_driver_pickup_time</th>\n",
       "      <th>task_id</th>\n",
       "      <th>itinerary_id</th>\n",
       "      <th>type</th>\n",
       "      <th>ack_status</th>\n",
       "      <th>waypoint_role</th>\n",
       "      <th>completed_at</th>\n",
       "      <th>city</th>\n",
       "      <th>status</th>\n",
       "      <th>transport_type</th>\n",
       "      <th>product</th>\n",
       "      <th>product_version</th>\n",
       "      <th>distribution_center</th>\n",
       "      <th>created</th>\n",
       "      <th>checked_in_at</th>\n",
       "      <th>pickup_checkout_at</th>\n",
       "      <th>expected_completion_time</th>\n",
       "    </tr>\n",
       "  </thead>\n",
       "  <tbody>\n",
       "    <tr>\n",
       "      <th>0</th>\n",
       "      <td>742bfa7575c8406011df4c200f66635a</td>\n",
       "      <td>D1</td>\n",
       "      <td>São Paulo</td>\n",
       "      <td>1.235</td>\n",
       "      <td>2018-01-02 22:00:00</td>\n",
       "      <td>2018-01-02 10:59:26</td>\n",
       "      <td>2018-01-02 10:00:12</td>\n",
       "      <td>27aae49423ab309f2332b9514d93abb4</td>\n",
       "      <td>6520e2315463d4d800178ae88c8482ae</td>\n",
       "      <td>Entrega</td>\n",
       "      <td>Realizado com sucesso</td>\n",
       "      <td>Recipient Address</td>\n",
       "      <td>2018-01-02 10:59:26</td>\n",
       "      <td>São Paulo</td>\n",
       "      <td>finished</td>\n",
       "      <td>Carro</td>\n",
       "      <td>Pro</td>\n",
       "      <td>Prime</td>\n",
       "      <td>São Paulo - Vila Leopoldina</td>\n",
       "      <td>2018-01-02 07:33:23.841</td>\n",
       "      <td>2018-01-02 09:27:57</td>\n",
       "      <td>2018-01-02 10:00:29</td>\n",
       "      <td>113523</td>\n",
       "    </tr>\n",
       "    <tr>\n",
       "      <th>1</th>\n",
       "      <td>742bfa7575c8406011df4c200f66635a</td>\n",
       "      <td>D1</td>\n",
       "      <td>São Paulo</td>\n",
       "      <td>1.235</td>\n",
       "      <td>2018-01-02 22:00:00</td>\n",
       "      <td>2018-01-02 10:59:26</td>\n",
       "      <td>2018-01-02 10:00:12</td>\n",
       "      <td>aea4c0df54f6436537409b589218365a</td>\n",
       "      <td>6520e2315463d4d800178ae88c8482ae</td>\n",
       "      <td>Retirada no last-mile</td>\n",
       "      <td>Realizado com sucesso</td>\n",
       "      <td>Distribution Center</td>\n",
       "      <td>2018-01-02 10:00:12</td>\n",
       "      <td>São Paulo</td>\n",
       "      <td>finished</td>\n",
       "      <td>Carro</td>\n",
       "      <td>Pro</td>\n",
       "      <td>Prime</td>\n",
       "      <td>São Paulo - Vila Leopoldina</td>\n",
       "      <td>2018-01-02 07:33:23.841</td>\n",
       "      <td>2018-01-02 09:27:57</td>\n",
       "      <td>2018-01-02 10:00:29</td>\n",
       "      <td>113523</td>\n",
       "    </tr>\n",
       "    <tr>\n",
       "      <th>2</th>\n",
       "      <td>a072a0893fa37b3d5a556f364c4b6ff6</td>\n",
       "      <td>D1</td>\n",
       "      <td>São Paulo</td>\n",
       "      <td>4.920</td>\n",
       "      <td>2018-01-02 22:00:00</td>\n",
       "      <td>2018-01-02 16:08:40</td>\n",
       "      <td>2018-01-02 10:00:12</td>\n",
       "      <td>2e3ed449ab5d19c72a1a447cfc18a0dd</td>\n",
       "      <td>6520e2315463d4d800178ae88c8482ae</td>\n",
       "      <td>Entrega</td>\n",
       "      <td>Realizado com sucesso</td>\n",
       "      <td>Recipient Address</td>\n",
       "      <td>2018-01-02 16:08:40</td>\n",
       "      <td>São Paulo</td>\n",
       "      <td>finished</td>\n",
       "      <td>Carro</td>\n",
       "      <td>Pro</td>\n",
       "      <td>Prime</td>\n",
       "      <td>São Paulo - Vila Leopoldina</td>\n",
       "      <td>2018-01-02 07:33:23.841</td>\n",
       "      <td>2018-01-02 09:27:57</td>\n",
       "      <td>2018-01-02 10:00:29</td>\n",
       "      <td>113523</td>\n",
       "    </tr>\n",
       "    <tr>\n",
       "      <th>3</th>\n",
       "      <td>a072a0893fa37b3d5a556f364c4b6ff6</td>\n",
       "      <td>D1</td>\n",
       "      <td>São Paulo</td>\n",
       "      <td>4.920</td>\n",
       "      <td>2018-01-02 22:00:00</td>\n",
       "      <td>2018-01-02 16:08:40</td>\n",
       "      <td>2018-01-02 10:00:12</td>\n",
       "      <td>65200980ea66f9956fdc4b236abfa61c</td>\n",
       "      <td>6520e2315463d4d800178ae88c8482ae</td>\n",
       "      <td>Retirada no last-mile</td>\n",
       "      <td>Realizado com sucesso</td>\n",
       "      <td>Distribution Center</td>\n",
       "      <td>2018-01-02 10:00:12</td>\n",
       "      <td>São Paulo</td>\n",
       "      <td>finished</td>\n",
       "      <td>Carro</td>\n",
       "      <td>Pro</td>\n",
       "      <td>Prime</td>\n",
       "      <td>São Paulo - Vila Leopoldina</td>\n",
       "      <td>2018-01-02 07:33:23.841</td>\n",
       "      <td>2018-01-02 09:27:57</td>\n",
       "      <td>2018-01-02 10:00:29</td>\n",
       "      <td>113523</td>\n",
       "    </tr>\n",
       "    <tr>\n",
       "      <th>4</th>\n",
       "      <td>65711b3d685d5a71ee348bb5e1b80745</td>\n",
       "      <td>D1</td>\n",
       "      <td>São Paulo</td>\n",
       "      <td>2.000</td>\n",
       "      <td>2018-01-02 22:00:00</td>\n",
       "      <td>2017-12-30 11:59:40</td>\n",
       "      <td>2017-12-30 08:37:31</td>\n",
       "      <td>452645a1a6e61604eaaf46c399eb07a9</td>\n",
       "      <td>125cfcf7cbae2082ba763aa3212a11f7</td>\n",
       "      <td>Entrega</td>\n",
       "      <td>Entrega prejudicada</td>\n",
       "      <td>Recipient Address</td>\n",
       "      <td>2018-01-03 17:17:10.156</td>\n",
       "      <td>São Paulo</td>\n",
       "      <td>finished</td>\n",
       "      <td>Van</td>\n",
       "      <td>Pro</td>\n",
       "      <td>Prime</td>\n",
       "      <td>São Paulo - Vila Leopoldina</td>\n",
       "      <td>2018-01-03 05:28:38.72</td>\n",
       "      <td>2018-01-03 06:42:31</td>\n",
       "      <td>2018-01-03 07:09:53</td>\n",
       "      <td>36580</td>\n",
       "    </tr>\n",
       "  </tbody>\n",
       "</table>\n",
       "</div>"
      ],
      "text/plain": [
       "                         package_id agreed_slo mesoregion  real_weight  \\\n",
       "0  742bfa7575c8406011df4c200f66635a         D1  São Paulo        1.235   \n",
       "1  742bfa7575c8406011df4c200f66635a         D1  São Paulo        1.235   \n",
       "2  a072a0893fa37b3d5a556f364c4b6ff6         D1  São Paulo        4.920   \n",
       "3  a072a0893fa37b3d5a556f364c4b6ff6         D1  São Paulo        4.920   \n",
       "4  65711b3d685d5a71ee348bb5e1b80745         D1  São Paulo        2.000   \n",
       "\n",
       "         deadline_time first_delivery_attempt_time  \\\n",
       "0  2018-01-02 22:00:00         2018-01-02 10:59:26   \n",
       "1  2018-01-02 22:00:00         2018-01-02 10:59:26   \n",
       "2  2018-01-02 22:00:00         2018-01-02 16:08:40   \n",
       "3  2018-01-02 22:00:00         2018-01-02 16:08:40   \n",
       "4  2018-01-02 22:00:00         2017-12-30 11:59:40   \n",
       "\n",
       "  last_mile_driver_pickup_time                           task_id  \\\n",
       "0          2018-01-02 10:00:12  27aae49423ab309f2332b9514d93abb4   \n",
       "1          2018-01-02 10:00:12  aea4c0df54f6436537409b589218365a   \n",
       "2          2018-01-02 10:00:12  2e3ed449ab5d19c72a1a447cfc18a0dd   \n",
       "3          2018-01-02 10:00:12  65200980ea66f9956fdc4b236abfa61c   \n",
       "4          2017-12-30 08:37:31  452645a1a6e61604eaaf46c399eb07a9   \n",
       "\n",
       "                       itinerary_id                   type  \\\n",
       "0  6520e2315463d4d800178ae88c8482ae                Entrega   \n",
       "1  6520e2315463d4d800178ae88c8482ae  Retirada no last-mile   \n",
       "2  6520e2315463d4d800178ae88c8482ae                Entrega   \n",
       "3  6520e2315463d4d800178ae88c8482ae  Retirada no last-mile   \n",
       "4  125cfcf7cbae2082ba763aa3212a11f7                Entrega   \n",
       "\n",
       "              ack_status        waypoint_role             completed_at  \\\n",
       "0  Realizado com sucesso    Recipient Address      2018-01-02 10:59:26   \n",
       "1  Realizado com sucesso  Distribution Center      2018-01-02 10:00:12   \n",
       "2  Realizado com sucesso    Recipient Address      2018-01-02 16:08:40   \n",
       "3  Realizado com sucesso  Distribution Center      2018-01-02 10:00:12   \n",
       "4    Entrega prejudicada    Recipient Address  2018-01-03 17:17:10.156   \n",
       "\n",
       "        city    status transport_type product product_version  \\\n",
       "0  São Paulo  finished          Carro     Pro           Prime   \n",
       "1  São Paulo  finished          Carro     Pro           Prime   \n",
       "2  São Paulo  finished          Carro     Pro           Prime   \n",
       "3  São Paulo  finished          Carro     Pro           Prime   \n",
       "4  São Paulo  finished            Van     Pro           Prime   \n",
       "\n",
       "           distribution_center                  created        checked_in_at  \\\n",
       "0  São Paulo - Vila Leopoldina  2018-01-02 07:33:23.841  2018-01-02 09:27:57   \n",
       "1  São Paulo - Vila Leopoldina  2018-01-02 07:33:23.841  2018-01-02 09:27:57   \n",
       "2  São Paulo - Vila Leopoldina  2018-01-02 07:33:23.841  2018-01-02 09:27:57   \n",
       "3  São Paulo - Vila Leopoldina  2018-01-02 07:33:23.841  2018-01-02 09:27:57   \n",
       "4  São Paulo - Vila Leopoldina   2018-01-03 05:28:38.72  2018-01-03 06:42:31   \n",
       "\n",
       "    pickup_checkout_at  expected_completion_time  \n",
       "0  2018-01-02 10:00:29                    113523  \n",
       "1  2018-01-02 10:00:29                    113523  \n",
       "2  2018-01-02 10:00:29                    113523  \n",
       "3  2018-01-02 10:00:29                    113523  \n",
       "4  2018-01-03 07:09:53                     36580  "
      ]
     },
     "execution_count": 7,
     "metadata": {},
     "output_type": "execute_result"
    }
   ],
   "source": [
    "df.head()"
   ]
  },
  {
   "cell_type": "markdown",
   "metadata": {},
   "source": [
    "**Asumption**: I'll use _created_ as the first package milestone, and _completed_at_ as the last one."
   ]
  },
  {
   "cell_type": "code",
   "execution_count": 8,
   "metadata": {},
   "outputs": [
    {
     "data": {
      "text/html": [
       "<div>\n",
       "<style scoped>\n",
       "    .dataframe tbody tr th:only-of-type {\n",
       "        vertical-align: middle;\n",
       "    }\n",
       "\n",
       "    .dataframe tbody tr th {\n",
       "        vertical-align: top;\n",
       "    }\n",
       "\n",
       "    .dataframe thead th {\n",
       "        text-align: right;\n",
       "    }\n",
       "</style>\n",
       "<table border=\"1\" class=\"dataframe\">\n",
       "  <thead>\n",
       "    <tr style=\"text-align: right;\">\n",
       "      <th></th>\n",
       "      <th>real_weight</th>\n",
       "      <th>expected_completion_time</th>\n",
       "    </tr>\n",
       "  </thead>\n",
       "  <tbody>\n",
       "    <tr>\n",
       "      <th>count</th>\n",
       "      <td>488994.000000</td>\n",
       "      <td>488994.000000</td>\n",
       "    </tr>\n",
       "    <tr>\n",
       "      <th>mean</th>\n",
       "      <td>0.912043</td>\n",
       "      <td>22750.429081</td>\n",
       "    </tr>\n",
       "    <tr>\n",
       "      <th>std</th>\n",
       "      <td>1.244001</td>\n",
       "      <td>24997.245173</td>\n",
       "    </tr>\n",
       "    <tr>\n",
       "      <th>min</th>\n",
       "      <td>0.000000</td>\n",
       "      <td>424.000000</td>\n",
       "    </tr>\n",
       "    <tr>\n",
       "      <th>25%</th>\n",
       "      <td>0.240000</td>\n",
       "      <td>7433.000000</td>\n",
       "    </tr>\n",
       "    <tr>\n",
       "      <th>50%</th>\n",
       "      <td>0.550000</td>\n",
       "      <td>9727.000000</td>\n",
       "    </tr>\n",
       "    <tr>\n",
       "      <th>75%</th>\n",
       "      <td>1.040000</td>\n",
       "      <td>32253.000000</td>\n",
       "    </tr>\n",
       "    <tr>\n",
       "      <th>max</th>\n",
       "      <td>19.360000</td>\n",
       "      <td>117261.000000</td>\n",
       "    </tr>\n",
       "  </tbody>\n",
       "</table>\n",
       "</div>"
      ],
      "text/plain": [
       "         real_weight  expected_completion_time\n",
       "count  488994.000000             488994.000000\n",
       "mean        0.912043              22750.429081\n",
       "std         1.244001              24997.245173\n",
       "min         0.000000                424.000000\n",
       "25%         0.240000               7433.000000\n",
       "50%         0.550000               9727.000000\n",
       "75%         1.040000              32253.000000\n",
       "max        19.360000             117261.000000"
      ]
     },
     "execution_count": 8,
     "metadata": {},
     "output_type": "execute_result"
    }
   ],
   "source": [
    "df.describe()"
   ]
  },
  {
   "cell_type": "code",
   "execution_count": 9,
   "metadata": {},
   "outputs": [
    {
     "data": {
      "text/html": [
       "<div>\n",
       "<style scoped>\n",
       "    .dataframe tbody tr th:only-of-type {\n",
       "        vertical-align: middle;\n",
       "    }\n",
       "\n",
       "    .dataframe tbody tr th {\n",
       "        vertical-align: top;\n",
       "    }\n",
       "\n",
       "    .dataframe thead th {\n",
       "        text-align: right;\n",
       "    }\n",
       "</style>\n",
       "<table border=\"1\" class=\"dataframe\">\n",
       "  <thead>\n",
       "    <tr style=\"text-align: right;\">\n",
       "      <th></th>\n",
       "      <th>created</th>\n",
       "      <th>completed_at</th>\n",
       "      <th>deadline_time</th>\n",
       "    </tr>\n",
       "  </thead>\n",
       "  <tbody>\n",
       "    <tr>\n",
       "      <th>395140</th>\n",
       "      <td>2019-09-03 13:17:06.566</td>\n",
       "      <td>2019-09-03 15:15:49</td>\n",
       "      <td>2019-09-03 22:00:00</td>\n",
       "    </tr>\n",
       "    <tr>\n",
       "      <th>367650</th>\n",
       "      <td>2019-10-16 07:35:54.212</td>\n",
       "      <td>2019-10-16 10:02:43</td>\n",
       "      <td>2019-10-16 22:00:00</td>\n",
       "    </tr>\n",
       "    <tr>\n",
       "      <th>205430</th>\n",
       "      <td>2019-09-10 12:27:06.087</td>\n",
       "      <td>2019-09-10 13:30:25</td>\n",
       "      <td>2019-09-10 22:00:00</td>\n",
       "    </tr>\n",
       "    <tr>\n",
       "      <th>98500</th>\n",
       "      <td>2019-04-30 08:36:23.80</td>\n",
       "      <td>2019-04-30 09:51:40</td>\n",
       "      <td>2019-04-30 22:00:00</td>\n",
       "    </tr>\n",
       "    <tr>\n",
       "      <th>110082</th>\n",
       "      <td>2019-08-26 12:32:05.301</td>\n",
       "      <td>2019-08-26 14:25:06</td>\n",
       "      <td>2019-08-27 22:00:00</td>\n",
       "    </tr>\n",
       "    <tr>\n",
       "      <th>44212</th>\n",
       "      <td>2019-09-13 15:23:10.314</td>\n",
       "      <td>2019-09-13 16:04:05</td>\n",
       "      <td>2019-09-16 22:00:00</td>\n",
       "    </tr>\n",
       "    <tr>\n",
       "      <th>260985</th>\n",
       "      <td>2019-07-27 10:13:25.908</td>\n",
       "      <td>2019-07-22 16:13:31.472</td>\n",
       "      <td>2019-07-26 22:00:00</td>\n",
       "    </tr>\n",
       "    <tr>\n",
       "      <th>154732</th>\n",
       "      <td>2019-03-18 16:56:57.724</td>\n",
       "      <td>2019-03-18 17:01:34</td>\n",
       "      <td>2019-03-18 22:00:00</td>\n",
       "    </tr>\n",
       "    <tr>\n",
       "      <th>228176</th>\n",
       "      <td>2018-07-19 05:39:11.487</td>\n",
       "      <td>2018-07-19 07:21:06</td>\n",
       "      <td>2018-07-19 22:00:00</td>\n",
       "    </tr>\n",
       "    <tr>\n",
       "      <th>197888</th>\n",
       "      <td>2019-12-02 09:51:44.493</td>\n",
       "      <td>2019-12-02 14:13:21</td>\n",
       "      <td>2019-12-02 22:00:00</td>\n",
       "    </tr>\n",
       "    <tr>\n",
       "      <th>48594</th>\n",
       "      <td>2018-11-22 11:12:16.272</td>\n",
       "      <td>2018-11-22 12:21:17</td>\n",
       "      <td>2018-11-26 22:00:00</td>\n",
       "    </tr>\n",
       "    <tr>\n",
       "      <th>215158</th>\n",
       "      <td>2019-09-23 08:03:10.752</td>\n",
       "      <td>2019-09-23 11:21:01</td>\n",
       "      <td>2019-09-23 22:00:00</td>\n",
       "    </tr>\n",
       "    <tr>\n",
       "      <th>335451</th>\n",
       "      <td>2019-05-08 13:25:47.564</td>\n",
       "      <td>2019-05-08 15:58:53</td>\n",
       "      <td>2019-05-09 22:00:00</td>\n",
       "    </tr>\n",
       "    <tr>\n",
       "      <th>401122</th>\n",
       "      <td>2019-02-20 07:39:27.042</td>\n",
       "      <td>2019-02-20 09:32:22</td>\n",
       "      <td>2019-02-20 22:00:00</td>\n",
       "    </tr>\n",
       "    <tr>\n",
       "      <th>413634</th>\n",
       "      <td>2019-08-16 10:26:15.458</td>\n",
       "      <td>2019-08-16 10:53:45</td>\n",
       "      <td>2019-08-20 22:00:00</td>\n",
       "    </tr>\n",
       "    <tr>\n",
       "      <th>108212</th>\n",
       "      <td>2019-05-30 07:06:02.636</td>\n",
       "      <td>2019-05-30 12:22:42</td>\n",
       "      <td>2019-05-30 22:00:00</td>\n",
       "    </tr>\n",
       "    <tr>\n",
       "      <th>66740</th>\n",
       "      <td>2018-04-06 20:42:42.001</td>\n",
       "      <td>2018-04-06 20:55:22</td>\n",
       "      <td>2018-04-09 22:00:00</td>\n",
       "    </tr>\n",
       "    <tr>\n",
       "      <th>190688</th>\n",
       "      <td>2018-10-16 18:21:23.499</td>\n",
       "      <td>2018-10-16 21:50:42</td>\n",
       "      <td>2018-10-17 22:00:00</td>\n",
       "    </tr>\n",
       "    <tr>\n",
       "      <th>323977</th>\n",
       "      <td>2018-12-26 09:10:53.23</td>\n",
       "      <td>2018-12-26 13:09:56.429</td>\n",
       "      <td>2018-12-26 22:00:00</td>\n",
       "    </tr>\n",
       "    <tr>\n",
       "      <th>210666</th>\n",
       "      <td>2019-01-02 09:28:10.474</td>\n",
       "      <td>2019-01-02 09:33:21</td>\n",
       "      <td>2018-12-31 22:00:00</td>\n",
       "    </tr>\n",
       "  </tbody>\n",
       "</table>\n",
       "</div>"
      ],
      "text/plain": [
       "                        created             completed_at        deadline_time\n",
       "395140  2019-09-03 13:17:06.566      2019-09-03 15:15:49  2019-09-03 22:00:00\n",
       "367650  2019-10-16 07:35:54.212      2019-10-16 10:02:43  2019-10-16 22:00:00\n",
       "205430  2019-09-10 12:27:06.087      2019-09-10 13:30:25  2019-09-10 22:00:00\n",
       "98500    2019-04-30 08:36:23.80      2019-04-30 09:51:40  2019-04-30 22:00:00\n",
       "110082  2019-08-26 12:32:05.301      2019-08-26 14:25:06  2019-08-27 22:00:00\n",
       "44212   2019-09-13 15:23:10.314      2019-09-13 16:04:05  2019-09-16 22:00:00\n",
       "260985  2019-07-27 10:13:25.908  2019-07-22 16:13:31.472  2019-07-26 22:00:00\n",
       "154732  2019-03-18 16:56:57.724      2019-03-18 17:01:34  2019-03-18 22:00:00\n",
       "228176  2018-07-19 05:39:11.487      2018-07-19 07:21:06  2018-07-19 22:00:00\n",
       "197888  2019-12-02 09:51:44.493      2019-12-02 14:13:21  2019-12-02 22:00:00\n",
       "48594   2018-11-22 11:12:16.272      2018-11-22 12:21:17  2018-11-26 22:00:00\n",
       "215158  2019-09-23 08:03:10.752      2019-09-23 11:21:01  2019-09-23 22:00:00\n",
       "335451  2019-05-08 13:25:47.564      2019-05-08 15:58:53  2019-05-09 22:00:00\n",
       "401122  2019-02-20 07:39:27.042      2019-02-20 09:32:22  2019-02-20 22:00:00\n",
       "413634  2019-08-16 10:26:15.458      2019-08-16 10:53:45  2019-08-20 22:00:00\n",
       "108212  2019-05-30 07:06:02.636      2019-05-30 12:22:42  2019-05-30 22:00:00\n",
       "66740   2018-04-06 20:42:42.001      2018-04-06 20:55:22  2018-04-09 22:00:00\n",
       "190688  2018-10-16 18:21:23.499      2018-10-16 21:50:42  2018-10-17 22:00:00\n",
       "323977   2018-12-26 09:10:53.23  2018-12-26 13:09:56.429  2018-12-26 22:00:00\n",
       "210666  2019-01-02 09:28:10.474      2019-01-02 09:33:21  2018-12-31 22:00:00"
      ]
     },
     "execution_count": 9,
     "metadata": {},
     "output_type": "execute_result"
    }
   ],
   "source": [
    "df[['created','completed_at','deadline_time']].sample(20,random_state=7)"
   ]
  },
  {
   "cell_type": "markdown",
   "metadata": {},
   "source": [
    "Seems that we have different length!"
   ]
  },
  {
   "cell_type": "code",
   "execution_count": 10,
   "metadata": {},
   "outputs": [],
   "source": [
    "df['length_created']=df['created'].str.len()"
   ]
  },
  {
   "cell_type": "code",
   "execution_count": 11,
   "metadata": {},
   "outputs": [
    {
     "data": {
      "text/plain": [
       "19       239\n",
       "22     40963\n",
       "23    432942\n",
       "24        59\n",
       "25      1396\n",
       "26     13395\n",
       "Name: length_created, dtype: int64"
      ]
     },
     "execution_count": 11,
     "metadata": {},
     "output_type": "execute_result"
    }
   ],
   "source": [
    "df['length_created'].value_counts().sort_index()"
   ]
  },
  {
   "cell_type": "code",
   "execution_count": 12,
   "metadata": {},
   "outputs": [
    {
     "data": {
      "text/plain": [
       "2792     2019-02-27 09:04:18\n",
       "2793     2019-02-27 09:04:18\n",
       "12271    2019-03-07 11:21:24\n",
       "Name: created, dtype: object"
      ]
     },
     "execution_count": 12,
     "metadata": {},
     "output_type": "execute_result"
    }
   ],
   "source": [
    "df.loc[df['length_created']==19,'created'].head(3)"
   ]
  },
  {
   "cell_type": "code",
   "execution_count": 13,
   "metadata": {},
   "outputs": [
    {
     "data": {
      "text/plain": [
       "79669     2019-04-16 12:40:23.713\n",
       "455246    2019-12-28 09:10:53.398\n",
       "103120    2019-12-05 13:22:12.544\n",
       "297371     2019-05-13 07:33:24.07\n",
       "468864    2019-05-08 16:28:41.793\n",
       "445564     2019-12-05 15:11:37.87\n",
       "90928     2019-07-27 10:13:25.908\n",
       "398456    2019-12-19 06:10:16.958\n",
       "233851    2019-09-11 10:18:12.705\n",
       "228845    2018-11-19 17:39:24.171\n",
       "Name: created, dtype: object"
      ]
     },
     "execution_count": 13,
     "metadata": {},
     "output_type": "execute_result"
    }
   ],
   "source": [
    "df.loc[df['length_created']>19,'created'].sample(10,random_state=7)"
   ]
  },
  {
   "cell_type": "markdown",
   "metadata": {},
   "source": [
    "I'll just trim the last digits"
   ]
  },
  {
   "cell_type": "code",
   "execution_count": 14,
   "metadata": {},
   "outputs": [],
   "source": [
    "df.loc[df['length_created']>19,'created']=df['created'].str[:19]"
   ]
  },
  {
   "cell_type": "code",
   "execution_count": 15,
   "metadata": {},
   "outputs": [],
   "source": [
    "df['length_created']=df['created'].str.len()"
   ]
  },
  {
   "cell_type": "code",
   "execution_count": 16,
   "metadata": {},
   "outputs": [
    {
     "data": {
      "text/plain": [
       "19    488994\n",
       "Name: length_created, dtype: int64"
      ]
     },
     "execution_count": 16,
     "metadata": {},
     "output_type": "execute_result"
    }
   ],
   "source": [
    "df.length_created.value_counts()"
   ]
  },
  {
   "cell_type": "code",
   "execution_count": 17,
   "metadata": {},
   "outputs": [
    {
     "data": {
      "text/plain": [
       "395140    19\n",
       "367650    19\n",
       "205430    19\n",
       "98500     19\n",
       "110082    19\n",
       "44212     19\n",
       "260985    19\n",
       "154732    19\n",
       "228176    19\n",
       "197888    19\n",
       "Name: length_created, dtype: int64"
      ]
     },
     "execution_count": 17,
     "metadata": {},
     "output_type": "execute_result"
    }
   ],
   "source": [
    "df['length_created'].sample(10,random_state=7)"
   ]
  },
  {
   "cell_type": "code",
   "execution_count": 18,
   "metadata": {},
   "outputs": [],
   "source": [
    "df['length_completed']=df['completed_at'].str.len()"
   ]
  },
  {
   "cell_type": "code",
   "execution_count": 19,
   "metadata": {},
   "outputs": [
    {
     "data": {
      "text/plain": [
       "19    429715\n",
       "22      5878\n",
       "23     52888\n",
       "24         2\n",
       "25        40\n",
       "26       471\n",
       "Name: length_completed, dtype: int64"
      ]
     },
     "execution_count": 19,
     "metadata": {},
     "output_type": "execute_result"
    }
   ],
   "source": [
    "df['length_completed'].value_counts().sort_index()"
   ]
  },
  {
   "cell_type": "code",
   "execution_count": 20,
   "metadata": {},
   "outputs": [
    {
     "data": {
      "text/plain": [
       "287866    2019-05-13 10:26:00.215\n",
       "251762    2019-07-25 07:17:39.841\n",
       "374381    2019-07-08 14:17:35.056\n",
       "23531     2019-07-15 17:29:01.759\n",
       "85583     2019-12-27 14:33:03.718\n",
       "219373    2018-10-15 17:47:35.167\n",
       "273372    2019-12-02 16:10:11.436\n",
       "108543     2019-07-10 22:36:21.40\n",
       "28928     2018-07-14 08:26:26.149\n",
       "204305    2019-07-18 10:21:13.436\n",
       "Name: completed_at, dtype: object"
      ]
     },
     "execution_count": 20,
     "metadata": {},
     "output_type": "execute_result"
    }
   ],
   "source": [
    "df.loc[df['length_completed']>19,'completed_at'].sample(10,random_state=7)"
   ]
  },
  {
   "cell_type": "markdown",
   "metadata": {},
   "source": [
    "I'll just trim the last digits"
   ]
  },
  {
   "cell_type": "code",
   "execution_count": 21,
   "metadata": {},
   "outputs": [],
   "source": [
    "df.loc[df['length_completed']>19,'completed_at']=df['completed_at'].str[:19]"
   ]
  },
  {
   "cell_type": "code",
   "execution_count": 22,
   "metadata": {},
   "outputs": [],
   "source": [
    "df['length_completed']=df['completed_at'].str.len()"
   ]
  },
  {
   "cell_type": "code",
   "execution_count": 23,
   "metadata": {},
   "outputs": [
    {
     "data": {
      "text/plain": [
       "19    488994\n",
       "Name: length_completed, dtype: int64"
      ]
     },
     "execution_count": 23,
     "metadata": {},
     "output_type": "execute_result"
    }
   ],
   "source": [
    "df['length_completed'].value_counts().sort_index()"
   ]
  },
  {
   "cell_type": "code",
   "execution_count": 24,
   "metadata": {},
   "outputs": [],
   "source": [
    "df['length_deadline']=df['deadline_time'].str.len()"
   ]
  },
  {
   "cell_type": "code",
   "execution_count": 25,
   "metadata": {},
   "outputs": [
    {
     "data": {
      "text/plain": [
       "19    488994\n",
       "Name: length_deadline, dtype: int64"
      ]
     },
     "execution_count": 25,
     "metadata": {},
     "output_type": "execute_result"
    }
   ],
   "source": [
    "df['length_deadline'].value_counts().sort_index()"
   ]
  },
  {
   "cell_type": "code",
   "execution_count": 26,
   "metadata": {},
   "outputs": [],
   "source": [
    "time_columns=['created','completed_at','deadline_time']"
   ]
  },
  {
   "cell_type": "code",
   "execution_count": 27,
   "metadata": {},
   "outputs": [],
   "source": [
    "df[time_columns]=df[time_columns].apply(pd.to_datetime)"
   ]
  },
  {
   "cell_type": "markdown",
   "metadata": {},
   "source": [
    "Also, we note that packages are not unique:"
   ]
  },
  {
   "cell_type": "code",
   "execution_count": 28,
   "metadata": {},
   "outputs": [
    {
     "data": {
      "text/plain": [
       "4fc95ca233273abf724254f719684ea3    9\n",
       "12784b9a57eb9857a99a0ca133e74b71    8\n",
       "5851296dac32741cdd0790f8c0a19179    8\n",
       "f98222062b0e94a8addfb7328e4f11c7    7\n",
       "515aedbd2302c33943df02469c65ec11    7\n",
       "                                   ..\n",
       "9f79aadd85f51f99a79966035f61151d    1\n",
       "d5370073d40bb35c9cf08b0aec59e59a    1\n",
       "c71ef503248716460907aa44826d12e4    1\n",
       "9d15e49637c9a9f5e3820d66c9b77447    1\n",
       "29910f6ada0851b2f56b2cba139cd0b8    1\n",
       "Name: package_id, Length: 255510, dtype: int64"
      ]
     },
     "execution_count": 28,
     "metadata": {},
     "output_type": "execute_result"
    }
   ],
   "source": [
    "df.package_id.value_counts()"
   ]
  },
  {
   "cell_type": "markdown",
   "metadata": {},
   "source": [
    "**Assumption**: The dataset contains different tasks for a package, so we'll find maximum for _completed_at_ and minimum for _created_."
   ]
  },
  {
   "cell_type": "code",
   "execution_count": 29,
   "metadata": {},
   "outputs": [],
   "source": [
    "start=df.groupby(['package_id'])['created'].min()"
   ]
  },
  {
   "cell_type": "code",
   "execution_count": 30,
   "metadata": {},
   "outputs": [],
   "source": [
    "end=df.groupby(['package_id'])['completed_at'].min()"
   ]
  },
  {
   "cell_type": "code",
   "execution_count": 31,
   "metadata": {},
   "outputs": [],
   "source": [
    "deadline=df.groupby(['package_id'])['deadline_time'].max()"
   ]
  },
  {
   "cell_type": "code",
   "execution_count": 32,
   "metadata": {},
   "outputs": [],
   "source": [
    "df_times=pd.concat([start,end,deadline],axis=1).reset_index()"
   ]
  },
  {
   "cell_type": "code",
   "execution_count": 33,
   "metadata": {},
   "outputs": [
    {
     "data": {
      "text/html": [
       "<div>\n",
       "<style scoped>\n",
       "    .dataframe tbody tr th:only-of-type {\n",
       "        vertical-align: middle;\n",
       "    }\n",
       "\n",
       "    .dataframe tbody tr th {\n",
       "        vertical-align: top;\n",
       "    }\n",
       "\n",
       "    .dataframe thead th {\n",
       "        text-align: right;\n",
       "    }\n",
       "</style>\n",
       "<table border=\"1\" class=\"dataframe\">\n",
       "  <thead>\n",
       "    <tr style=\"text-align: right;\">\n",
       "      <th></th>\n",
       "      <th>package_id</th>\n",
       "      <th>created</th>\n",
       "      <th>completed_at</th>\n",
       "      <th>deadline_time</th>\n",
       "    </tr>\n",
       "  </thead>\n",
       "  <tbody>\n",
       "    <tr>\n",
       "      <th>0</th>\n",
       "      <td>000023dcdc4cefb53227410c05fa3758</td>\n",
       "      <td>2019-11-11 06:50:00</td>\n",
       "      <td>2019-11-11 07:17:22</td>\n",
       "      <td>2019-11-11 22:00:00</td>\n",
       "    </tr>\n",
       "    <tr>\n",
       "      <th>1</th>\n",
       "      <td>0000617d503befc24d09446a85aae5a0</td>\n",
       "      <td>2018-10-24 18:56:05</td>\n",
       "      <td>2018-10-24 19:09:20</td>\n",
       "      <td>2018-10-25 22:00:00</td>\n",
       "    </tr>\n",
       "    <tr>\n",
       "      <th>2</th>\n",
       "      <td>00016f8a01a38a3663fecb03ea644da5</td>\n",
       "      <td>2019-12-16 08:39:40</td>\n",
       "      <td>2019-12-16 08:58:45</td>\n",
       "      <td>2019-12-16 22:00:00</td>\n",
       "    </tr>\n",
       "    <tr>\n",
       "      <th>3</th>\n",
       "      <td>0001998977c1ca9d8a28635c20b7186c</td>\n",
       "      <td>2019-10-09 08:22:36</td>\n",
       "      <td>2019-10-09 08:59:20</td>\n",
       "      <td>2019-10-09 22:00:00</td>\n",
       "    </tr>\n",
       "    <tr>\n",
       "      <th>4</th>\n",
       "      <td>0001d0f879d64cbe27de422d9f00e50d</td>\n",
       "      <td>2019-11-04 08:19:01</td>\n",
       "      <td>2019-11-04 08:52:33</td>\n",
       "      <td>2019-11-04 22:00:00</td>\n",
       "    </tr>\n",
       "    <tr>\n",
       "      <th>...</th>\n",
       "      <td>...</td>\n",
       "      <td>...</td>\n",
       "      <td>...</td>\n",
       "      <td>...</td>\n",
       "    </tr>\n",
       "    <tr>\n",
       "      <th>255505</th>\n",
       "      <td>ffffac1b8eed2e847c55c05e22a28d12</td>\n",
       "      <td>2019-01-07 15:18:06</td>\n",
       "      <td>2019-01-07 15:28:46</td>\n",
       "      <td>2019-01-07 22:00:00</td>\n",
       "    </tr>\n",
       "    <tr>\n",
       "      <th>255506</th>\n",
       "      <td>ffffbccb015abfe32d6b78a29a39214f</td>\n",
       "      <td>2018-05-30 07:26:48</td>\n",
       "      <td>2018-05-30 08:11:49</td>\n",
       "      <td>2018-05-30 22:00:00</td>\n",
       "    </tr>\n",
       "    <tr>\n",
       "      <th>255507</th>\n",
       "      <td>ffffe7dcfa24dbedaf81e2b93588fe57</td>\n",
       "      <td>2018-03-13 11:13:33</td>\n",
       "      <td>2018-03-13 12:26:26</td>\n",
       "      <td>2018-03-13 22:00:00</td>\n",
       "    </tr>\n",
       "    <tr>\n",
       "      <th>255508</th>\n",
       "      <td>ffffefda35d199061ed7d58b78ddc434</td>\n",
       "      <td>2019-07-02 09:04:47</td>\n",
       "      <td>2019-07-02 09:24:38</td>\n",
       "      <td>2019-07-03 22:00:00</td>\n",
       "    </tr>\n",
       "    <tr>\n",
       "      <th>255509</th>\n",
       "      <td>fffff06ce9f64eff054cf05d33e4b77c</td>\n",
       "      <td>2019-07-12 06:57:57</td>\n",
       "      <td>2019-07-12 07:15:47</td>\n",
       "      <td>2019-07-12 22:00:00</td>\n",
       "    </tr>\n",
       "  </tbody>\n",
       "</table>\n",
       "<p>255510 rows × 4 columns</p>\n",
       "</div>"
      ],
      "text/plain": [
       "                              package_id             created  \\\n",
       "0       000023dcdc4cefb53227410c05fa3758 2019-11-11 06:50:00   \n",
       "1       0000617d503befc24d09446a85aae5a0 2018-10-24 18:56:05   \n",
       "2       00016f8a01a38a3663fecb03ea644da5 2019-12-16 08:39:40   \n",
       "3       0001998977c1ca9d8a28635c20b7186c 2019-10-09 08:22:36   \n",
       "4       0001d0f879d64cbe27de422d9f00e50d 2019-11-04 08:19:01   \n",
       "...                                  ...                 ...   \n",
       "255505  ffffac1b8eed2e847c55c05e22a28d12 2019-01-07 15:18:06   \n",
       "255506  ffffbccb015abfe32d6b78a29a39214f 2018-05-30 07:26:48   \n",
       "255507  ffffe7dcfa24dbedaf81e2b93588fe57 2018-03-13 11:13:33   \n",
       "255508  ffffefda35d199061ed7d58b78ddc434 2019-07-02 09:04:47   \n",
       "255509  fffff06ce9f64eff054cf05d33e4b77c 2019-07-12 06:57:57   \n",
       "\n",
       "              completed_at       deadline_time  \n",
       "0      2019-11-11 07:17:22 2019-11-11 22:00:00  \n",
       "1      2018-10-24 19:09:20 2018-10-25 22:00:00  \n",
       "2      2019-12-16 08:58:45 2019-12-16 22:00:00  \n",
       "3      2019-10-09 08:59:20 2019-10-09 22:00:00  \n",
       "4      2019-11-04 08:52:33 2019-11-04 22:00:00  \n",
       "...                    ...                 ...  \n",
       "255505 2019-01-07 15:28:46 2019-01-07 22:00:00  \n",
       "255506 2018-05-30 08:11:49 2018-05-30 22:00:00  \n",
       "255507 2018-03-13 12:26:26 2018-03-13 22:00:00  \n",
       "255508 2019-07-02 09:24:38 2019-07-03 22:00:00  \n",
       "255509 2019-07-12 07:15:47 2019-07-12 22:00:00  \n",
       "\n",
       "[255510 rows x 4 columns]"
      ]
     },
     "execution_count": 33,
     "metadata": {},
     "output_type": "execute_result"
    }
   ],
   "source": [
    "df_times"
   ]
  },
  {
   "cell_type": "markdown",
   "metadata": {},
   "source": [
    "And we're obtaning the elapsed time for each task, in minutes"
   ]
  },
  {
   "cell_type": "code",
   "execution_count": 34,
   "metadata": {},
   "outputs": [],
   "source": [
    "df_times['elapsed_time']=(df_times['completed_at']-df_times['created'])/np.timedelta64(1,'m')"
   ]
  },
  {
   "cell_type": "code",
   "execution_count": 35,
   "metadata": {},
   "outputs": [
    {
     "data": {
      "text/plain": [
       "35445"
      ]
     },
     "execution_count": 35,
     "metadata": {},
     "output_type": "execute_result"
    }
   ],
   "source": [
    "len(df_times[df_times.elapsed_time<0])"
   ]
  },
  {
   "cell_type": "code",
   "execution_count": 36,
   "metadata": {},
   "outputs": [
    {
     "data": {
      "text/html": [
       "<div>\n",
       "<style scoped>\n",
       "    .dataframe tbody tr th:only-of-type {\n",
       "        vertical-align: middle;\n",
       "    }\n",
       "\n",
       "    .dataframe tbody tr th {\n",
       "        vertical-align: top;\n",
       "    }\n",
       "\n",
       "    .dataframe thead th {\n",
       "        text-align: right;\n",
       "    }\n",
       "</style>\n",
       "<table border=\"1\" class=\"dataframe\">\n",
       "  <thead>\n",
       "    <tr style=\"text-align: right;\">\n",
       "      <th></th>\n",
       "      <th>package_id</th>\n",
       "      <th>created</th>\n",
       "      <th>completed_at</th>\n",
       "      <th>deadline_time</th>\n",
       "      <th>elapsed_time</th>\n",
       "    </tr>\n",
       "  </thead>\n",
       "  <tbody>\n",
       "    <tr>\n",
       "      <th>216403</th>\n",
       "      <td>d8f74ee94239c3503345ea6dd31cfc66</td>\n",
       "      <td>2019-07-27 10:13:25</td>\n",
       "      <td>2019-07-11 11:25:53</td>\n",
       "      <td>2019-07-16 22:00:00</td>\n",
       "      <td>-22967.533333</td>\n",
       "    </tr>\n",
       "    <tr>\n",
       "      <th>104778</th>\n",
       "      <td>68e2420b3b59b05866902ed530b84ba8</td>\n",
       "      <td>2019-07-27 10:13:25</td>\n",
       "      <td>2019-07-22 10:34:03</td>\n",
       "      <td>2019-07-25 22:00:00</td>\n",
       "      <td>-7179.366667</td>\n",
       "    </tr>\n",
       "    <tr>\n",
       "      <th>247148</th>\n",
       "      <td>f7964c85d37ca026ce9ac9dc5113b75a</td>\n",
       "      <td>2019-07-27 10:13:25</td>\n",
       "      <td>2019-07-19 16:44:10</td>\n",
       "      <td>2019-07-23 22:00:00</td>\n",
       "      <td>-11129.250000</td>\n",
       "    </tr>\n",
       "    <tr>\n",
       "      <th>11272</th>\n",
       "      <td>0b6073fe508d0ad15cd36d1cac9ae5ee</td>\n",
       "      <td>2019-07-27 10:13:25</td>\n",
       "      <td>2019-07-22 13:23:40</td>\n",
       "      <td>2019-07-25 22:00:00</td>\n",
       "      <td>-7009.750000</td>\n",
       "    </tr>\n",
       "    <tr>\n",
       "      <th>41294</th>\n",
       "      <td>295a394493092f56b965240ad7b092a1</td>\n",
       "      <td>2019-07-03 09:23:49</td>\n",
       "      <td>2019-07-02 06:14:02</td>\n",
       "      <td>2019-07-04 22:00:00</td>\n",
       "      <td>-1629.783333</td>\n",
       "    </tr>\n",
       "    <tr>\n",
       "      <th>179019</th>\n",
       "      <td>b3a9cc3466efd85e904766567cf28845</td>\n",
       "      <td>2019-07-27 10:13:25</td>\n",
       "      <td>2019-07-10 14:54:29</td>\n",
       "      <td>2019-07-12 22:00:00</td>\n",
       "      <td>-24198.933333</td>\n",
       "    </tr>\n",
       "    <tr>\n",
       "      <th>23489</th>\n",
       "      <td>17a805f44f2d9b0ee4c05735a35ae8a0</td>\n",
       "      <td>2019-07-27 10:13:25</td>\n",
       "      <td>2019-07-02 23:43:10</td>\n",
       "      <td>2019-07-08 22:00:00</td>\n",
       "      <td>-35190.250000</td>\n",
       "    </tr>\n",
       "    <tr>\n",
       "      <th>87594</th>\n",
       "      <td>57ada6c467751f505e37fdc8e3ca22b0</td>\n",
       "      <td>2019-07-27 10:13:25</td>\n",
       "      <td>2019-07-13 11:12:17</td>\n",
       "      <td>2019-07-18 22:00:00</td>\n",
       "      <td>-20101.133333</td>\n",
       "    </tr>\n",
       "    <tr>\n",
       "      <th>134633</th>\n",
       "      <td>86d67053a6d54128f7e80f8f66460c21</td>\n",
       "      <td>2019-07-27 10:13:25</td>\n",
       "      <td>2019-07-05 11:33:35</td>\n",
       "      <td>2019-07-09 22:00:00</td>\n",
       "      <td>-31599.833333</td>\n",
       "    </tr>\n",
       "    <tr>\n",
       "      <th>249196</th>\n",
       "      <td>f9a243aef16993da863244d7cde1e6f1</td>\n",
       "      <td>2019-07-27 10:13:25</td>\n",
       "      <td>2019-07-15 15:00:38</td>\n",
       "      <td>2019-07-18 22:00:00</td>\n",
       "      <td>-16992.783333</td>\n",
       "    </tr>\n",
       "  </tbody>\n",
       "</table>\n",
       "</div>"
      ],
      "text/plain": [
       "                              package_id             created  \\\n",
       "216403  d8f74ee94239c3503345ea6dd31cfc66 2019-07-27 10:13:25   \n",
       "104778  68e2420b3b59b05866902ed530b84ba8 2019-07-27 10:13:25   \n",
       "247148  f7964c85d37ca026ce9ac9dc5113b75a 2019-07-27 10:13:25   \n",
       "11272   0b6073fe508d0ad15cd36d1cac9ae5ee 2019-07-27 10:13:25   \n",
       "41294   295a394493092f56b965240ad7b092a1 2019-07-03 09:23:49   \n",
       "179019  b3a9cc3466efd85e904766567cf28845 2019-07-27 10:13:25   \n",
       "23489   17a805f44f2d9b0ee4c05735a35ae8a0 2019-07-27 10:13:25   \n",
       "87594   57ada6c467751f505e37fdc8e3ca22b0 2019-07-27 10:13:25   \n",
       "134633  86d67053a6d54128f7e80f8f66460c21 2019-07-27 10:13:25   \n",
       "249196  f9a243aef16993da863244d7cde1e6f1 2019-07-27 10:13:25   \n",
       "\n",
       "              completed_at       deadline_time  elapsed_time  \n",
       "216403 2019-07-11 11:25:53 2019-07-16 22:00:00 -22967.533333  \n",
       "104778 2019-07-22 10:34:03 2019-07-25 22:00:00  -7179.366667  \n",
       "247148 2019-07-19 16:44:10 2019-07-23 22:00:00 -11129.250000  \n",
       "11272  2019-07-22 13:23:40 2019-07-25 22:00:00  -7009.750000  \n",
       "41294  2019-07-02 06:14:02 2019-07-04 22:00:00  -1629.783333  \n",
       "179019 2019-07-10 14:54:29 2019-07-12 22:00:00 -24198.933333  \n",
       "23489  2019-07-02 23:43:10 2019-07-08 22:00:00 -35190.250000  \n",
       "87594  2019-07-13 11:12:17 2019-07-18 22:00:00 -20101.133333  \n",
       "134633 2019-07-05 11:33:35 2019-07-09 22:00:00 -31599.833333  \n",
       "249196 2019-07-15 15:00:38 2019-07-18 22:00:00 -16992.783333  "
      ]
     },
     "execution_count": 36,
     "metadata": {},
     "output_type": "execute_result"
    }
   ],
   "source": [
    "df_times[df_times.elapsed_time<0].sample(10,random_state=7)"
   ]
  },
  {
   "cell_type": "markdown",
   "metadata": {},
   "source": [
    "¿Could a package be completed before its creation? I'll just drop this section of the data."
   ]
  },
  {
   "cell_type": "code",
   "execution_count": 37,
   "metadata": {},
   "outputs": [],
   "source": [
    "df_times=df_times[df_times.elapsed_time>=0]"
   ]
  },
  {
   "cell_type": "code",
   "execution_count": 38,
   "metadata": {},
   "outputs": [
    {
     "data": {
      "text/plain": [
       "220065"
      ]
     },
     "execution_count": 38,
     "metadata": {},
     "output_type": "execute_result"
    }
   ],
   "source": [
    "len(df_times)"
   ]
  },
  {
   "cell_type": "code",
   "execution_count": 39,
   "metadata": {},
   "outputs": [
    {
     "data": {
      "text/plain": [
       "Timestamp('2018-01-02 07:33:23')"
      ]
     },
     "execution_count": 39,
     "metadata": {},
     "output_type": "execute_result"
    }
   ],
   "source": [
    "df_times['created'].min()"
   ]
  },
  {
   "cell_type": "code",
   "execution_count": 40,
   "metadata": {},
   "outputs": [],
   "source": [
    "def is_outlier(series):\n",
    "    '''\n",
    "    This will mark extreme values using interquantile range\n",
    "    JUST FOR PLOTTING\n",
    "    \n",
    "    '''\n",
    "    q1,q3=np.quantile(series,[0.25,0.75])\n",
    "    iqr=q3-q1\n",
    "    cap=q3+iqr*1.5\n",
    "    floor=max(0,q1-1.5*iqr)\n",
    "    filtered=[(x>=cap or x<=floor) for x in series]\n",
    "    return filtered\n",
    "    "
   ]
  },
  {
   "cell_type": "code",
   "execution_count": 41,
   "metadata": {},
   "outputs": [
    {
     "name": "stderr",
     "output_type": "stream",
     "text": [
      "/Users/ggoni/opt/anaconda3/lib/python3.7/site-packages/pandas/core/indexing.py:844: SettingWithCopyWarning: \n",
      "A value is trying to be set on a copy of a slice from a DataFrame.\n",
      "Try using .loc[row_indexer,col_indexer] = value instead\n",
      "\n",
      "See the caveats in the documentation: https://pandas.pydata.org/pandas-docs/stable/user_guide/indexing.html#returning-a-view-versus-a-copy\n",
      "  self.obj[key] = _infer_fill_value(value)\n",
      "/Users/ggoni/opt/anaconda3/lib/python3.7/site-packages/pandas/core/indexing.py:965: SettingWithCopyWarning: \n",
      "A value is trying to be set on a copy of a slice from a DataFrame.\n",
      "Try using .loc[row_indexer,col_indexer] = value instead\n",
      "\n",
      "See the caveats in the documentation: https://pandas.pydata.org/pandas-docs/stable/user_guide/indexing.html#returning-a-view-versus-a-copy\n",
      "  self.obj[item] = s\n"
     ]
    }
   ],
   "source": [
    "df_times.loc[:,'is_outlier']=is_outlier(df_times.elapsed_time)"
   ]
  },
  {
   "cell_type": "code",
   "execution_count": 42,
   "metadata": {},
   "outputs": [
    {
     "data": {
      "text/plain": [
       "<matplotlib.axes._subplots.AxesSubplot at 0x11ef78a50>"
      ]
     },
     "execution_count": 42,
     "metadata": {},
     "output_type": "execute_result"
    },
    {
     "data": {
      "image/png": "[encoded data removed]",
      "text/plain": [
       "<Figure size 432x288 with 1 Axes>"
      ]
     },
     "metadata": {
      "needs_background": "light"
     },
     "output_type": "display_data"
    }
   ],
   "source": [
    "df_times.loc[df_times.is_outlier==False,'elapsed_time'].hist()"
   ]
  },
  {
   "cell_type": "code",
   "execution_count": 43,
   "metadata": {},
   "outputs": [
    {
     "data": {
      "text/plain": [
       "<matplotlib.axes._subplots.AxesSubplot at 0x125b66390>"
      ]
     },
     "execution_count": 43,
     "metadata": {},
     "output_type": "execute_result"
    },
    {
     "data": {
      "image/png": "[encoded data removed]",
      "text/plain": [
       "<Figure size 432x288 with 1 Axes>"
      ]
     },
     "metadata": {
      "needs_background": "light"
     },
     "output_type": "display_data"
    }
   ],
   "source": [
    "df_times.loc[:,'elapsed_time'].hist()"
   ]
  },
  {
   "cell_type": "markdown",
   "metadata": {},
   "source": [
    "We know we meet SLA regulary, so we assume that is the base case:"
   ]
  },
  {
   "cell_type": "code",
   "execution_count": 44,
   "metadata": {},
   "outputs": [
    {
     "name": "stderr",
     "output_type": "stream",
     "text": [
      "/Users/ggoni/opt/anaconda3/lib/python3.7/site-packages/ipykernel_launcher.py:1: SettingWithCopyWarning: \n",
      "A value is trying to be set on a copy of a slice from a DataFrame.\n",
      "Try using .loc[row_indexer,col_indexer] = value instead\n",
      "\n",
      "See the caveats in the documentation: https://pandas.pydata.org/pandas-docs/stable/user_guide/indexing.html#returning-a-view-versus-a-copy\n",
      "  \"\"\"Entry point for launching an IPython kernel.\n",
      "/Users/ggoni/opt/anaconda3/lib/python3.7/site-packages/ipykernel_launcher.py:2: SettingWithCopyWarning: \n",
      "A value is trying to be set on a copy of a slice from a DataFrame.\n",
      "Try using .loc[row_indexer,col_indexer] = value instead\n",
      "\n",
      "See the caveats in the documentation: https://pandas.pydata.org/pandas-docs/stable/user_guide/indexing.html#returning-a-view-versus-a-copy\n",
      "  \n",
      "/Users/ggoni/opt/anaconda3/lib/python3.7/site-packages/ipykernel_launcher.py:3: SettingWithCopyWarning: \n",
      "A value is trying to be set on a copy of a slice from a DataFrame.\n",
      "Try using .loc[row_indexer,col_indexer] = value instead\n",
      "\n",
      "See the caveats in the documentation: https://pandas.pydata.org/pandas-docs/stable/user_guide/indexing.html#returning-a-view-versus-a-copy\n",
      "  This is separate from the ipykernel package so we can avoid doing imports until\n"
     ]
    }
   ],
   "source": [
    "df_times['delay']=(df_times.deadline_time-df_times.completed_at)/np.timedelta64(1,'D')\n",
    "df_times['delay']=df_times.delay.apply(lambda x: 0 if x>=0 else -x)\n",
    "df_times['sla_compliant']=df_times.delay.apply(lambda x: True if x==0 else False)"
   ]
  },
  {
   "cell_type": "markdown",
   "metadata": {},
   "source": [
    "Otherwise, tag it"
   ]
  },
  {
   "cell_type": "code",
   "execution_count": 45,
   "metadata": {},
   "outputs": [],
   "source": [
    "df_times.set_index(['package_id'],inplace=True)"
   ]
  },
  {
   "cell_type": "code",
   "execution_count": 46,
   "metadata": {},
   "outputs": [
    {
     "data": {
      "text/plain": [
       "1"
      ]
     },
     "execution_count": 46,
     "metadata": {},
     "output_type": "execute_result"
    }
   ],
   "source": [
    "df[['package_id','mesoregion']].groupby(['package_id'])['mesoregion'].nunique().max()"
   ]
  },
  {
   "cell_type": "code",
   "execution_count": 47,
   "metadata": {},
   "outputs": [
    {
     "data": {
      "text/plain": [
       "1"
      ]
     },
     "execution_count": 47,
     "metadata": {},
     "output_type": "execute_result"
    }
   ],
   "source": [
    "df[['package_id','real_weight']].groupby(['package_id'])['real_weight'].nunique().max()"
   ]
  },
  {
   "cell_type": "code",
   "execution_count": 48,
   "metadata": {},
   "outputs": [
    {
     "data": {
      "text/plain": [
       "1"
      ]
     },
     "execution_count": 48,
     "metadata": {},
     "output_type": "execute_result"
    }
   ],
   "source": [
    "df[['package_id','agreed_slo']].groupby(['package_id'])['agreed_slo'].nunique().max()"
   ]
  },
  {
   "cell_type": "code",
   "execution_count": 49,
   "metadata": {},
   "outputs": [
    {
     "data": {
      "text/plain": [
       "2"
      ]
     },
     "execution_count": 49,
     "metadata": {},
     "output_type": "execute_result"
    }
   ],
   "source": [
    "df[['package_id','transport_type']].groupby(['package_id'])['transport_type'].nunique().max()"
   ]
  },
  {
   "cell_type": "code",
   "execution_count": 50,
   "metadata": {},
   "outputs": [
    {
     "data": {
      "text/plain": [
       "2"
      ]
     },
     "execution_count": 50,
     "metadata": {},
     "output_type": "execute_result"
    }
   ],
   "source": [
    "df[['package_id','product_version']].groupby(['package_id'])['product_version'].nunique().max()"
   ]
  },
  {
   "cell_type": "markdown",
   "metadata": {},
   "source": [
    "Note that nor product version, neither transport type are not unique for a package"
   ]
  },
  {
   "cell_type": "code",
   "execution_count": 51,
   "metadata": {},
   "outputs": [],
   "source": [
    "df_count_tasks=df.groupby(['package_id'])['task_id'].count()"
   ]
  },
  {
   "cell_type": "code",
   "execution_count": 52,
   "metadata": {},
   "outputs": [],
   "source": [
    "df_times=df_times.merge(df_count_tasks,how='left',left_index=True,right_index=True)"
   ]
  },
  {
   "cell_type": "code",
   "execution_count": 53,
   "metadata": {},
   "outputs": [],
   "source": [
    "df_other_feat=df[['package_id','mesoregion','real_weight','agreed_slo']]"
   ]
  },
  {
   "cell_type": "code",
   "execution_count": 54,
   "metadata": {},
   "outputs": [
    {
     "name": "stderr",
     "output_type": "stream",
     "text": [
      "/Users/ggoni/opt/anaconda3/lib/python3.7/site-packages/ipykernel_launcher.py:1: FutureWarning: Indexing with multiple keys (implicitly converted to a tuple of keys) will be deprecated, use a list instead.\n",
      "  \"\"\"Entry point for launching an IPython kernel.\n"
     ]
    }
   ],
   "source": [
    "df_other_feat=df_other_feat.groupby(['package_id'])['mesoregion','real_weight','agreed_slo'].first()"
   ]
  },
  {
   "cell_type": "code",
   "execution_count": 55,
   "metadata": {},
   "outputs": [],
   "source": [
    "df_times=df_times.merge(df_other_feat,how='left',left_index=True,right_index=True)"
   ]
  },
  {
   "cell_type": "code",
   "execution_count": 56,
   "metadata": {},
   "outputs": [],
   "source": [
    "df_times.rename(columns={'task_id':'task_id_count'},inplace=True)"
   ]
  },
  {
   "cell_type": "code",
   "execution_count": 57,
   "metadata": {},
   "outputs": [
    {
     "data": {
      "text/plain": [
       "0.9188194397109944"
      ]
     },
     "execution_count": 57,
     "metadata": {},
     "output_type": "execute_result"
    }
   ],
   "source": [
    "df_times.sla_compliant.mean()"
   ]
  },
  {
   "cell_type": "code",
   "execution_count": 58,
   "metadata": {},
   "outputs": [],
   "source": [
    "df_times.to_csv(\"data.csv\")"
   ]
  },
  {
   "cell_type": "code",
   "execution_count": null,
   "metadata": {},
   "outputs": [],
   "source": []
  }
 ],
 "metadata": {
  "kernelspec": {
   "display_name": "Python 3",
   "language": "python",
   "name": "python3"
  },
  "language_info": {
   "codemirror_mode": {
    "name": "ipython",
    "version": 3
   },
   "file_extension": ".py",
   "mimetype": "text/x-python",
   "name": "python",
   "nbconvert_exporter": "python",
   "pygments_lexer": "ipython3",
   "version": "3.7.6"
  }
 },
 "nbformat": 4,
 "nbformat_minor": 4
}
