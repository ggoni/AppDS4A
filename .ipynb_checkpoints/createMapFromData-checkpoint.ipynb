{
 "cells": [
  {
   "cell_type": "code",
   "execution_count": null,
   "metadata": {},
   "outputs": [],
   "source": [
    "import pandas as pd\n",
    "import numpy as np\n",
    "import folium"
   ]
  },
  {
   "cell_type": "code",
   "execution_count": null,
   "metadata": {},
   "outputs": [],
   "source": [
    "df_delay=pd.read_csv('data_map.csv')"
   ]
  },
  {
   "cell_type": "code",
   "execution_count": null,
   "metadata": {},
   "outputs": [],
   "source": [
    "df_cities=pd.read_csv('brazil_cities.csv')"
   ]
  },
  {
   "cell_type": "code",
   "execution_count": null,
   "metadata": {},
   "outputs": [],
   "source": [
    "df_cities"
   ]
  },
  {
   "cell_type": "code",
   "execution_count": null,
   "metadata": {},
   "outputs": [],
   "source": [
    "matches=list(df_delay.mesoregion[df_delay.mesoregion.isin(df_cities.city)])\n",
    "matches"
   ]
  },
  {
   "cell_type": "code",
   "execution_count": null,
   "metadata": {},
   "outputs": [],
   "source": [
    "missing=[x for x in df_delay.mesoregion if x not in matches]"
   ]
  },
  {
   "cell_type": "code",
   "execution_count": null,
   "metadata": {},
   "outputs": [],
   "source": [
    "missing"
   ]
  },
  {
   "cell_type": "markdown",
   "metadata": {},
   "source": [
    "Create a dictionary for matching cities"
   ]
  },
  {
   "cell_type": "code",
   "execution_count": null,
   "metadata": {},
   "outputs": [],
   "source": [
    "dict_cities = {key:value for (key,value) in  zip(matches,matches)}"
   ]
  },
  {
   "cell_type": "code",
   "execution_count": null,
   "metadata": {},
   "outputs": [],
   "source": [
    "dict_cities"
   ]
  },
  {
   "cell_type": "code",
   "execution_count": null,
   "metadata": {},
   "outputs": [],
   "source": [
    "len(dict_cities)-len(df_delay)"
   ]
  },
  {
   "cell_type": "code",
   "execution_count": null,
   "metadata": {},
   "outputs": [],
   "source": [
    "?pd.merge"
   ]
  },
  {
   "cell_type": "code",
   "execution_count": null,
   "metadata": {},
   "outputs": [],
   "source": [
    "df_cities=df_cities.groupby(['city','lat','lon'])['country'].first().reset_index().iloc[:,:-1]"
   ]
  },
  {
   "cell_type": "code",
   "execution_count": null,
   "metadata": {},
   "outputs": [],
   "source": [
    "len(df_cities)"
   ]
  },
  {
   "cell_type": "code",
   "execution_count": null,
   "metadata": {},
   "outputs": [],
   "source": [
    "df_cities"
   ]
  },
  {
   "cell_type": "code",
   "execution_count": null,
   "metadata": {},
   "outputs": [],
   "source": [
    "df_delay=pd.merge(df_delay,df_cities,how='left',left_on='mesoregion',right_on='city')"
   ]
  },
  {
   "cell_type": "code",
   "execution_count": null,
   "metadata": {},
   "outputs": [],
   "source": [
    "df_delay.drop(columns=['city'],inplace=True)"
   ]
  },
  {
   "cell_type": "code",
   "execution_count": null,
   "metadata": {},
   "outputs": [],
   "source": [
    "df_delay.head(3)"
   ]
  },
  {
   "cell_type": "code",
   "execution_count": null,
   "metadata": {},
   "outputs": [],
   "source": [
    "red_labels=['#ffffd4','#fe9929','#993404']\n",
    "my_colors=pd.cut(df_delay.delay,3,labels=red_labels)"
   ]
  },
  {
   "cell_type": "code",
   "execution_count": null,
   "metadata": {},
   "outputs": [],
   "source": [
    "df_delay['colors']=my_colors"
   ]
  },
  {
   "cell_type": "code",
   "execution_count": null,
   "metadata": {},
   "outputs": [],
   "source": [
    "def createMap(data,col_text1,col_text2,col_radius,col_color):\n",
    "\n",
    "    '''\n",
    "    createMap uses CircleMaker method from folium. Inputs:\n",
    "\n",
    "    - a dataframe\n",
    "    - lat  and lon are included, with those names, in different columns/features \n",
    "    - Specify text column\n",
    "    - Specify radius colums\n",
    "    - Specify fill color column\n",
    "    '''\n",
    "   \n",
    "    m=folium.Map([-20,-44],zoom_start=6)\n",
    "\n",
    "\n",
    "    for lat,lon,lab1,lab2,radius,color in zip(data['lat'],\n",
    "                                data['lon'],\n",
    "                                data[col_text1],\n",
    "                                data[col_text2],\n",
    "                                data[col_radius],\n",
    "                                data[col_color]):\n",
    "\n",
    "        folium.CircleMarker([lat, lon],\n",
    "                        popup=\"Mean Delay: \"+str(round(lab1,1))+\" days,\\n\" +str(lab2)+', '+\n",
    "                            str(radius) +' delayed packages',\n",
    "                        radius=30*np.log(radius)/np.log(12000),\n",
    "                        color='black',\n",
    "                        fill=True,\n",
    "                        fill_opacity=0.5,\n",
    "                        fill_color=color,\n",
    "                       ).add_to(m)\n",
    "        m.save('delay_map.html')"
   ]
  },
  {
   "cell_type": "code",
   "execution_count": null,
   "metadata": {},
   "outputs": [],
   "source": [
    "createMap(df_delay,'delay','mesoregion','package_id','colors')"
   ]
  },
  {
   "cell_type": "code",
   "execution_count": null,
   "metadata": {},
   "outputs": [],
   "source": []
  }
 ],
 "metadata": {
  "kernelspec": {
   "display_name": "Python 3",
   "language": "python",
   "name": "python3"
  },
  "language_info": {
   "codemirror_mode": {
    "name": "ipython",
    "version": 3
   },
   "file_extension": ".py",
   "mimetype": "text/x-python",
   "name": "python",
   "nbconvert_exporter": "python",
   "pygments_lexer": "ipython3",
   "version": "3.7.6"
  }
 },
 "nbformat": 4,
 "nbformat_minor": 4
}
