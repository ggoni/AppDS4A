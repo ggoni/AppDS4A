{
 "cells": [
  {
   "cell_type": "code",
   "execution_count": 1,
   "metadata": {},
   "outputs": [],
   "source": [
    "import pandas as pd\n",
    "import numpy as np\n",
    "import folium"
   ]
  },
  {
   "cell_type": "code",
   "execution_count": 2,
   "metadata": {},
   "outputs": [],
   "source": [
    "df_delay=pd.read_csv('data_map.csv')"
   ]
  },
  {
   "cell_type": "code",
   "execution_count": 3,
   "metadata": {},
   "outputs": [],
   "source": [
    "df_cities=pd.read_csv('brazil_cities.csv')"
   ]
  },
  {
   "cell_type": "code",
   "execution_count": 4,
   "metadata": {},
   "outputs": [
    {
     "data": {
      "text/html": [
       "<div>\n",
       "<style scoped>\n",
       "    .dataframe tbody tr th:only-of-type {\n",
       "        vertical-align: middle;\n",
       "    }\n",
       "\n",
       "    .dataframe tbody tr th {\n",
       "        vertical-align: top;\n",
       "    }\n",
       "\n",
       "    .dataframe thead th {\n",
       "        text-align: right;\n",
       "    }\n",
       "</style>\n",
       "<table border=\"1\" class=\"dataframe\">\n",
       "  <thead>\n",
       "    <tr style=\"text-align: right;\">\n",
       "      <th></th>\n",
       "      <th>city</th>\n",
       "      <th>lat</th>\n",
       "      <th>lon</th>\n",
       "      <th>country</th>\n",
       "      <th>iso2</th>\n",
       "      <th>admin</th>\n",
       "      <th>capital</th>\n",
       "      <th>population</th>\n",
       "      <th>population_proper</th>\n",
       "    </tr>\n",
       "  </thead>\n",
       "  <tbody>\n",
       "    <tr>\n",
       "      <th>0</th>\n",
       "      <td>São Paulo</td>\n",
       "      <td>-23.573252</td>\n",
       "      <td>-46.641681</td>\n",
       "      <td>Brazil</td>\n",
       "      <td>BR</td>\n",
       "      <td>São Paulo</td>\n",
       "      <td>admin</td>\n",
       "      <td>18845000.0</td>\n",
       "      <td>10021295.0</td>\n",
       "    </tr>\n",
       "    <tr>\n",
       "      <th>1</th>\n",
       "      <td>Rio de Janeiro</td>\n",
       "      <td>-22.875113</td>\n",
       "      <td>-43.277548</td>\n",
       "      <td>Brazil</td>\n",
       "      <td>BR</td>\n",
       "      <td>Rio de Janeiro</td>\n",
       "      <td>admin</td>\n",
       "      <td>11748000.0</td>\n",
       "      <td>2010175.0</td>\n",
       "    </tr>\n",
       "    <tr>\n",
       "      <th>2</th>\n",
       "      <td>Belo Horizonte</td>\n",
       "      <td>-19.901739</td>\n",
       "      <td>-43.964196</td>\n",
       "      <td>Brazil</td>\n",
       "      <td>BR</td>\n",
       "      <td>Minas Gerais</td>\n",
       "      <td>admin</td>\n",
       "      <td>5575000.0</td>\n",
       "      <td>2373224.0</td>\n",
       "    </tr>\n",
       "    <tr>\n",
       "      <th>3</th>\n",
       "      <td>Porto Alegre</td>\n",
       "      <td>-30.033333</td>\n",
       "      <td>-51.200000</td>\n",
       "      <td>Brazil</td>\n",
       "      <td>BR</td>\n",
       "      <td>Rio Grande do Sul</td>\n",
       "      <td>admin</td>\n",
       "      <td>3917000.0</td>\n",
       "      <td>1372741.0</td>\n",
       "    </tr>\n",
       "    <tr>\n",
       "      <th>4</th>\n",
       "      <td>Brasília</td>\n",
       "      <td>-15.783333</td>\n",
       "      <td>-47.916667</td>\n",
       "      <td>Brazil</td>\n",
       "      <td>BR</td>\n",
       "      <td>Distrito Federal</td>\n",
       "      <td>primary</td>\n",
       "      <td>3716996.0</td>\n",
       "      <td>2562963.0</td>\n",
       "    </tr>\n",
       "    <tr>\n",
       "      <th>...</th>\n",
       "      <td>...</td>\n",
       "      <td>...</td>\n",
       "      <td>...</td>\n",
       "      <td>...</td>\n",
       "      <td>...</td>\n",
       "      <td>...</td>\n",
       "      <td>...</td>\n",
       "      <td>...</td>\n",
       "      <td>...</td>\n",
       "    </tr>\n",
       "    <tr>\n",
       "      <th>382</th>\n",
       "      <td>Ribeirão Pires</td>\n",
       "      <td>-23.693784</td>\n",
       "      <td>-46.466229</td>\n",
       "      <td>NaN</td>\n",
       "      <td>NaN</td>\n",
       "      <td>NaN</td>\n",
       "      <td>NaN</td>\n",
       "      <td>NaN</td>\n",
       "      <td>NaN</td>\n",
       "    </tr>\n",
       "    <tr>\n",
       "      <th>383</th>\n",
       "      <td>Baixada Santista</td>\n",
       "      <td>-24.043272</td>\n",
       "      <td>-46.738282</td>\n",
       "      <td>NaN</td>\n",
       "      <td>NaN</td>\n",
       "      <td>NaN</td>\n",
       "      <td>NaN</td>\n",
       "      <td>NaN</td>\n",
       "      <td>NaN</td>\n",
       "    </tr>\n",
       "    <tr>\n",
       "      <th>384</th>\n",
       "      <td>Cubatão</td>\n",
       "      <td>-23.867970</td>\n",
       "      <td>-46.479179</td>\n",
       "      <td>NaN</td>\n",
       "      <td>NaN</td>\n",
       "      <td>NaN</td>\n",
       "      <td>NaN</td>\n",
       "      <td>NaN</td>\n",
       "      <td>NaN</td>\n",
       "    </tr>\n",
       "    <tr>\n",
       "      <th>385</th>\n",
       "      <td>Itaquaquecetuba</td>\n",
       "      <td>-23.464068</td>\n",
       "      <td>-46.369003</td>\n",
       "      <td>NaN</td>\n",
       "      <td>NaN</td>\n",
       "      <td>NaN</td>\n",
       "      <td>NaN</td>\n",
       "      <td>NaN</td>\n",
       "      <td>NaN</td>\n",
       "    </tr>\n",
       "    <tr>\n",
       "      <th>386</th>\n",
       "      <td>Ribeirão Preto</td>\n",
       "      <td>-21.179458</td>\n",
       "      <td>-47.872798</td>\n",
       "      <td>NaN</td>\n",
       "      <td>NaN</td>\n",
       "      <td>NaN</td>\n",
       "      <td>NaN</td>\n",
       "      <td>NaN</td>\n",
       "      <td>NaN</td>\n",
       "    </tr>\n",
       "  </tbody>\n",
       "</table>\n",
       "<p>387 rows × 9 columns</p>\n",
       "</div>"
      ],
      "text/plain": [
       "                 city        lat        lon country iso2              admin  \\\n",
       "0           São Paulo -23.573252 -46.641681  Brazil   BR          São Paulo   \n",
       "1      Rio de Janeiro -22.875113 -43.277548  Brazil   BR     Rio de Janeiro   \n",
       "2      Belo Horizonte -19.901739 -43.964196  Brazil   BR       Minas Gerais   \n",
       "3        Porto Alegre -30.033333 -51.200000  Brazil   BR  Rio Grande do Sul   \n",
       "4            Brasília -15.783333 -47.916667  Brazil   BR   Distrito Federal   \n",
       "..                ...        ...        ...     ...  ...                ...   \n",
       "382    Ribeirão Pires -23.693784 -46.466229     NaN  NaN                NaN   \n",
       "383  Baixada Santista -24.043272 -46.738282     NaN  NaN                NaN   \n",
       "384           Cubatão -23.867970 -46.479179     NaN  NaN                NaN   \n",
       "385   Itaquaquecetuba -23.464068 -46.369003     NaN  NaN                NaN   \n",
       "386    Ribeirão Preto -21.179458 -47.872798     NaN  NaN                NaN   \n",
       "\n",
       "     capital  population  population_proper  \n",
       "0      admin  18845000.0         10021295.0  \n",
       "1      admin  11748000.0          2010175.0  \n",
       "2      admin   5575000.0          2373224.0  \n",
       "3      admin   3917000.0          1372741.0  \n",
       "4    primary   3716996.0          2562963.0  \n",
       "..       ...         ...                ...  \n",
       "382      NaN         NaN                NaN  \n",
       "383      NaN         NaN                NaN  \n",
       "384      NaN         NaN                NaN  \n",
       "385      NaN         NaN                NaN  \n",
       "386      NaN         NaN                NaN  \n",
       "\n",
       "[387 rows x 9 columns]"
      ]
     },
     "execution_count": 4,
     "metadata": {},
     "output_type": "execute_result"
    }
   ],
   "source": [
    "df_cities"
   ]
  },
  {
   "cell_type": "code",
   "execution_count": 5,
   "metadata": {},
   "outputs": [
    {
     "data": {
      "text/plain": [
       "['Baixada Santista',\n",
       " 'Belo Horizonte',\n",
       " 'Brasília',\n",
       " 'Campinas',\n",
       " 'Cubatão',\n",
       " 'Curitiba',\n",
       " 'Florianópolis',\n",
       " 'Fortaleza',\n",
       " 'Goiânia',\n",
       " 'Itaquaquecetuba',\n",
       " 'Joinville',\n",
       " 'Manaus',\n",
       " 'Piracicaba',\n",
       " 'Porto Alegre',\n",
       " 'Recife',\n",
       " 'Ribeirão Pires',\n",
       " 'Ribeirão Preto',\n",
       " 'Rio de Janeiro',\n",
       " 'Salvador',\n",
       " 'Sorocaba',\n",
       " 'São José dos Campos',\n",
       " 'São Paulo',\n",
       " 'Uberlândia',\n",
       " 'Vitória']"
      ]
     },
     "execution_count": 5,
     "metadata": {},
     "output_type": "execute_result"
    }
   ],
   "source": [
    "matches=list(df_delay.mesoregion[df_delay.mesoregion.isin(df_cities.city)])\n",
    "matches"
   ]
  },
  {
   "cell_type": "code",
   "execution_count": 6,
   "metadata": {},
   "outputs": [],
   "source": [
    "missing=[x for x in df_delay.mesoregion if x not in matches]"
   ]
  },
  {
   "cell_type": "code",
   "execution_count": 7,
   "metadata": {},
   "outputs": [
    {
     "data": {
      "text/plain": [
       "[]"
      ]
     },
     "execution_count": 7,
     "metadata": {},
     "output_type": "execute_result"
    }
   ],
   "source": [
    "missing"
   ]
  },
  {
   "cell_type": "markdown",
   "metadata": {},
   "source": [
    "Create a dictionary for matching cities"
   ]
  },
  {
   "cell_type": "code",
   "execution_count": 8,
   "metadata": {},
   "outputs": [],
   "source": [
    "dict_cities = {key:value for (key,value) in  zip(matches,matches)}"
   ]
  },
  {
   "cell_type": "code",
   "execution_count": 9,
   "metadata": {},
   "outputs": [
    {
     "data": {
      "text/plain": [
       "{'Baixada Santista': 'Baixada Santista',\n",
       " 'Belo Horizonte': 'Belo Horizonte',\n",
       " 'Brasília': 'Brasília',\n",
       " 'Campinas': 'Campinas',\n",
       " 'Cubatão': 'Cubatão',\n",
       " 'Curitiba': 'Curitiba',\n",
       " 'Florianópolis': 'Florianópolis',\n",
       " 'Fortaleza': 'Fortaleza',\n",
       " 'Goiânia': 'Goiânia',\n",
       " 'Itaquaquecetuba': 'Itaquaquecetuba',\n",
       " 'Joinville': 'Joinville',\n",
       " 'Manaus': 'Manaus',\n",
       " 'Piracicaba': 'Piracicaba',\n",
       " 'Porto Alegre': 'Porto Alegre',\n",
       " 'Recife': 'Recife',\n",
       " 'Ribeirão Pires': 'Ribeirão Pires',\n",
       " 'Ribeirão Preto': 'Ribeirão Preto',\n",
       " 'Rio de Janeiro': 'Rio de Janeiro',\n",
       " 'Salvador': 'Salvador',\n",
       " 'Sorocaba': 'Sorocaba',\n",
       " 'São José dos Campos': 'São José dos Campos',\n",
       " 'São Paulo': 'São Paulo',\n",
       " 'Uberlândia': 'Uberlândia',\n",
       " 'Vitória': 'Vitória'}"
      ]
     },
     "execution_count": 9,
     "metadata": {},
     "output_type": "execute_result"
    }
   ],
   "source": [
    "dict_cities"
   ]
  },
  {
   "cell_type": "code",
   "execution_count": 10,
   "metadata": {},
   "outputs": [
    {
     "data": {
      "text/plain": [
       "0"
      ]
     },
     "execution_count": 10,
     "metadata": {},
     "output_type": "execute_result"
    }
   ],
   "source": [
    "len(dict_cities)-len(df_delay)"
   ]
  },
  {
   "cell_type": "code",
   "execution_count": 11,
   "metadata": {},
   "outputs": [],
   "source": [
    "?pd.merge"
   ]
  },
  {
   "cell_type": "code",
   "execution_count": 12,
   "metadata": {},
   "outputs": [],
   "source": [
    "df_cities=df_cities.groupby(['city','lat','lon'])['country'].first().reset_index().iloc[:,:-1]"
   ]
  },
  {
   "cell_type": "code",
   "execution_count": 13,
   "metadata": {},
   "outputs": [
    {
     "data": {
      "text/plain": [
       "387"
      ]
     },
     "execution_count": 13,
     "metadata": {},
     "output_type": "execute_result"
    }
   ],
   "source": [
    "len(df_cities)"
   ]
  },
  {
   "cell_type": "code",
   "execution_count": 14,
   "metadata": {},
   "outputs": [
    {
     "data": {
      "text/html": [
       "<div>\n",
       "<style scoped>\n",
       "    .dataframe tbody tr th:only-of-type {\n",
       "        vertical-align: middle;\n",
       "    }\n",
       "\n",
       "    .dataframe tbody tr th {\n",
       "        vertical-align: top;\n",
       "    }\n",
       "\n",
       "    .dataframe thead th {\n",
       "        text-align: right;\n",
       "    }\n",
       "</style>\n",
       "<table border=\"1\" class=\"dataframe\">\n",
       "  <thead>\n",
       "    <tr style=\"text-align: right;\">\n",
       "      <th></th>\n",
       "      <th>city</th>\n",
       "      <th>lat</th>\n",
       "      <th>lon</th>\n",
       "    </tr>\n",
       "  </thead>\n",
       "  <tbody>\n",
       "    <tr>\n",
       "      <th>0</th>\n",
       "      <td>Abaetetuba</td>\n",
       "      <td>-1.724735</td>\n",
       "      <td>-48.881345</td>\n",
       "    </tr>\n",
       "    <tr>\n",
       "      <th>1</th>\n",
       "      <td>Abunã</td>\n",
       "      <td>-9.700000</td>\n",
       "      <td>-65.383333</td>\n",
       "    </tr>\n",
       "    <tr>\n",
       "      <th>2</th>\n",
       "      <td>Acaraú</td>\n",
       "      <td>-2.883333</td>\n",
       "      <td>-40.116667</td>\n",
       "    </tr>\n",
       "    <tr>\n",
       "      <th>3</th>\n",
       "      <td>Alagoinhas</td>\n",
       "      <td>-12.132504</td>\n",
       "      <td>-38.427789</td>\n",
       "    </tr>\n",
       "    <tr>\n",
       "      <th>4</th>\n",
       "      <td>Alenquer</td>\n",
       "      <td>-1.947293</td>\n",
       "      <td>-54.736185</td>\n",
       "    </tr>\n",
       "    <tr>\n",
       "      <th>...</th>\n",
       "      <td>...</td>\n",
       "      <td>...</td>\n",
       "      <td>...</td>\n",
       "    </tr>\n",
       "    <tr>\n",
       "      <th>382</th>\n",
       "      <td>Volta Redonda</td>\n",
       "      <td>-22.514005</td>\n",
       "      <td>-44.109594</td>\n",
       "    </tr>\n",
       "    <tr>\n",
       "      <th>383</th>\n",
       "      <td>Várzea Grande</td>\n",
       "      <td>-15.647000</td>\n",
       "      <td>-56.133000</td>\n",
       "    </tr>\n",
       "    <tr>\n",
       "      <th>384</th>\n",
       "      <td>Xinguara</td>\n",
       "      <td>-7.100569</td>\n",
       "      <td>-49.941751</td>\n",
       "    </tr>\n",
       "    <tr>\n",
       "      <th>385</th>\n",
       "      <td>Xique-Xique</td>\n",
       "      <td>-10.823803</td>\n",
       "      <td>-42.729650</td>\n",
       "    </tr>\n",
       "    <tr>\n",
       "      <th>386</th>\n",
       "      <td>Óbidos</td>\n",
       "      <td>-1.904858</td>\n",
       "      <td>-55.517292</td>\n",
       "    </tr>\n",
       "  </tbody>\n",
       "</table>\n",
       "<p>387 rows × 3 columns</p>\n",
       "</div>"
      ],
      "text/plain": [
       "              city        lat        lon\n",
       "0       Abaetetuba  -1.724735 -48.881345\n",
       "1            Abunã  -9.700000 -65.383333\n",
       "2           Acaraú  -2.883333 -40.116667\n",
       "3       Alagoinhas -12.132504 -38.427789\n",
       "4         Alenquer  -1.947293 -54.736185\n",
       "..             ...        ...        ...\n",
       "382  Volta Redonda -22.514005 -44.109594\n",
       "383  Várzea Grande -15.647000 -56.133000\n",
       "384       Xinguara  -7.100569 -49.941751\n",
       "385    Xique-Xique -10.823803 -42.729650\n",
       "386         Óbidos  -1.904858 -55.517292\n",
       "\n",
       "[387 rows x 3 columns]"
      ]
     },
     "execution_count": 14,
     "metadata": {},
     "output_type": "execute_result"
    }
   ],
   "source": [
    "df_cities"
   ]
  },
  {
   "cell_type": "code",
   "execution_count": 15,
   "metadata": {},
   "outputs": [],
   "source": [
    "df_delay=pd.merge(df_delay,df_cities,how='left',left_on='mesoregion',right_on='city')"
   ]
  },
  {
   "cell_type": "code",
   "execution_count": 16,
   "metadata": {},
   "outputs": [],
   "source": [
    "df_delay.drop(columns=['city'],inplace=True)"
   ]
  },
  {
   "cell_type": "code",
   "execution_count": 17,
   "metadata": {},
   "outputs": [
    {
     "data": {
      "text/html": [
       "<div>\n",
       "<style scoped>\n",
       "    .dataframe tbody tr th:only-of-type {\n",
       "        vertical-align: middle;\n",
       "    }\n",
       "\n",
       "    .dataframe tbody tr th {\n",
       "        vertical-align: top;\n",
       "    }\n",
       "\n",
       "    .dataframe thead th {\n",
       "        text-align: right;\n",
       "    }\n",
       "</style>\n",
       "<table border=\"1\" class=\"dataframe\">\n",
       "  <thead>\n",
       "    <tr style=\"text-align: right;\">\n",
       "      <th></th>\n",
       "      <th>mesoregion</th>\n",
       "      <th>delay</th>\n",
       "      <th>package_id</th>\n",
       "      <th>lat</th>\n",
       "      <th>lon</th>\n",
       "    </tr>\n",
       "  </thead>\n",
       "  <tbody>\n",
       "    <tr>\n",
       "      <th>0</th>\n",
       "      <td>Baixada Santista</td>\n",
       "      <td>2.107919</td>\n",
       "      <td>412</td>\n",
       "      <td>-24.043272</td>\n",
       "      <td>-46.738282</td>\n",
       "    </tr>\n",
       "    <tr>\n",
       "      <th>1</th>\n",
       "      <td>Belo Horizonte</td>\n",
       "      <td>4.062605</td>\n",
       "      <td>581</td>\n",
       "      <td>-19.901739</td>\n",
       "      <td>-43.964196</td>\n",
       "    </tr>\n",
       "    <tr>\n",
       "      <th>2</th>\n",
       "      <td>Brasília</td>\n",
       "      <td>4.544186</td>\n",
       "      <td>318</td>\n",
       "      <td>-15.783333</td>\n",
       "      <td>-47.916667</td>\n",
       "    </tr>\n",
       "  </tbody>\n",
       "</table>\n",
       "</div>"
      ],
      "text/plain": [
       "         mesoregion     delay  package_id        lat        lon\n",
       "0  Baixada Santista  2.107919         412 -24.043272 -46.738282\n",
       "1    Belo Horizonte  4.062605         581 -19.901739 -43.964196\n",
       "2          Brasília  4.544186         318 -15.783333 -47.916667"
      ]
     },
     "execution_count": 17,
     "metadata": {},
     "output_type": "execute_result"
    }
   ],
   "source": [
    "df_delay.head(3)"
   ]
  },
  {
   "cell_type": "code",
   "execution_count": 18,
   "metadata": {},
   "outputs": [],
   "source": [
    "red_labels=['#ffffd4','#fe9929','#993404']\n",
    "my_colors=pd.cut(df_delay.delay,3,labels=red_labels)"
   ]
  },
  {
   "cell_type": "code",
   "execution_count": 19,
   "metadata": {},
   "outputs": [],
   "source": [
    "df_delay['colors']=my_colors"
   ]
  },
  {
   "cell_type": "code",
   "execution_count": 23,
   "metadata": {},
   "outputs": [],
   "source": [
    "def createMap(data,col_text1,col_text2,col_radius,col_color):\n",
    "\n",
    "    '''\n",
    "    createMap uses CircleMaker method from folium. Inputs:\n",
    "\n",
    "    - a dataframe\n",
    "    - lat  and lon are included, with those names, in different columns/features \n",
    "    - Specify text column\n",
    "    - Specify radius colums\n",
    "    - Specify fill color column\n",
    "    '''\n",
    "   \n",
    "    m=folium.Map([-9.2,-49.7],zoom_start=4)\n",
    "\n",
    "\n",
    "    for lat,lon,lab1,lab2,radius,color in zip(data['lat'],\n",
    "                                data['lon'],\n",
    "                                data[col_text1],\n",
    "                                data[col_text2],\n",
    "                                data[col_radius],\n",
    "                                data[col_color]):\n",
    "\n",
    "        folium.CircleMarker([lat, lon],\n",
    "                        popup=\"Mean Delay: \"+str(round(lab1,1))+\" days,\\n\" +str(lab2)+', '+\n",
    "                            str(radius) +' delayed packages',\n",
    "                        radius=30*np.log(radius)/np.log(12000),\n",
    "                        color='black',\n",
    "                        fill=True,\n",
    "                        fill_opacity=0.7,\n",
    "                        fill_color=color,\n",
    "                       ).add_to(m)\n",
    "        m.save('delay_map.html')"
   ]
  },
  {
   "cell_type": "code",
   "execution_count": 24,
   "metadata": {},
   "outputs": [],
   "source": [
    "createMap(df_delay,'delay','mesoregion','package_id','colors')"
   ]
  },
  {
   "cell_type": "code",
   "execution_count": 25,
   "metadata": {},
   "outputs": [],
   "source": [
    "df_delay.to_csv('data_map_final.csv')"
   ]
  },
  {
   "cell_type": "code",
   "execution_count": null,
   "metadata": {},
   "outputs": [],
   "source": []
  },
  {
   "cell_type": "code",
   "execution_count": null,
   "metadata": {},
   "outputs": [],
   "source": []
  },
  {
   "cell_type": "code",
   "execution_count": null,
   "metadata": {},
   "outputs": [],
   "source": []
  }
 ],
 "metadata": {
  "kernelspec": {
   "display_name": "Python 3",
   "language": "python",
   "name": "python3"
  },
  "language_info": {
   "codemirror_mode": {
    "name": "ipython",
    "version": 3
   },
   "file_extension": ".py",
   "mimetype": "text/x-python",
   "name": "python",
   "nbconvert_exporter": "python",
   "pygments_lexer": "ipython3",
   "version": "3.7.6"
  }
 },
 "nbformat": 4,
 "nbformat_minor": 4
}
